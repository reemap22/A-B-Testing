import pandas as pd
import matplotlib.pyplot as plt
from scipy.stats import chi2_contingency

# Element list Homepage Version 1 - Interact, 5-29-2013.csv
url = 'https://drive.google.com/file/d/1UcA8fjzrQUpPf4ykWJFpb-d5gsgZrVuk/view?usp=drive_link'
path = 'https://drive.google.com/uc?export=download&id='+url.split('/')[-2]
interact_df = pd.read_csv(path)

# Element list Homepage Version 2 - Connect, 5-29-2013.csv
url = 'https://drive.google.com/file/d/1pjUWpOwqBCXTGFw1s0lKv_f-jKqQecFd/view?usp=drive_link'
path = 'https://drive.google.com/uc?export=download&id='+url.split('/')[-2]
connect_df = pd.read_csv(path)

# Element list Homepage Version 3 - Learn, 5-29-2013.csv
url = 'https://drive.google.com/file/d/1MQ2APjczEdjaa8wYJ25nIE3C46OeZF_K/view?usp=drive_link'
path = 'https://drive.google.com/uc?export=download&id='+url.split('/')[-2]
learn_df = pd.read_csv(path)

# Element list Homepage Version 4 - Help, 5-29-2013.csv
url = 'https://drive.google.com/file/d/1hfuZEbnrjKqymzCPEsM-s4vFwTr0Ry74/view?usp=drive_link'
path = 'https://drive.google.com/uc?export=download&id='+url.split('/')[-2]
help_df = pd.read_csv(path)

# Element list Homepage Version 5 - Services, 5-29-2013.csv
url = 'https://drive.google.com/file/d/1hfuZEbnrjKqymzCPEsM-s4vFwTr0Ry74/view?usp=drive_link'
path = 'https://drive.google.com/uc?export=download&id='+url.split('/')[-2]
services_df = pd.read_csv(path)
